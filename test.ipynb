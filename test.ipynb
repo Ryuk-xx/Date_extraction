{
 "cells": [
  {
   "cell_type": "code",
   "execution_count": null,
   "id": "b07fc159",
   "metadata": {},
   "outputs": [
    {
     "name": "stderr",
     "output_type": "stream",
     "text": [
      "ERROR: Invalid requirement: '#PyPDF2'\n",
      "WARNING: There was an error checking the latest version of pip.\n"
     ]
    }
   ],
   "source": [
    "!pip install paddlepaddle==2.6.2 paddleocr==2.9.1 PyPDF2 vietocr panda numpy"
   ]
  },
  {
   "cell_type": "code",
   "execution_count": 3,
   "id": "863cee7e",
   "metadata": {},
   "outputs": [],
   "source": [
    "import os\n",
    "from ocr_v2 import OcrExtractor\n",
    "import matplotlib.pyplot as plt\n",
    "from PIL import Image\n",
    "ocr = OcrExtractor()\n",
    "\n",
    "folder_path = r\"D:\\contract_date_extractor\\line_img\"\n",
    "image_extensions = {'.jpg', '.jpeg', '.png', '.bmp', '.gif'}"
   ]
  },
  {
   "cell_type": "code",
   "execution_count": null,
   "id": "9793e8fc",
   "metadata": {},
   "outputs": [],
   "source": [
    "for idx, filename in enumerate(os.listdir(folder_path)):\n",
    "    file_path = os.path.join(folder_path, filename)\n",
    "    \n",
    "    # Kiểm tra xem có phải file và có đúng định dạng ảnh không\n",
    "    if os.path.isfile(file_path):\n",
    "        ext = os.path.splitext(filename)[1].lower()\n",
    "        if ext in image_extensions:\n",
    "            img_path = os.path.abspath(file_path)\n",
    "            plt.imshow(plt.imread(img_path))\n",
    "            plt.show()\n",
    "            img = Image.open(img_path)\n",
    "            s = ocr.vietocr.predict(img)\n",
    "            print(s)                     "
   ]
  },
  {
   "cell_type": "code",
   "execution_count": 5,
   "id": "b06dcbcd",
   "metadata": {},
   "outputs": [
    {
     "name": "stdout",
     "output_type": "stream",
     "text": [
      "                                     filename       date   time\n",
      "0                           1748342162609.pdf 2025-05-27   8.50\n",
      "1                           1748342523126.pdf 2025-05-17  10.59\n",
      "2                           1748342608383.pdf 2025-05-19  19.74\n",
      "3                           1748342658587.pdf 2025-05-26   9.31\n",
      "4                           1748342701099.pdf 2025-05-07   9.06\n",
      "..                                        ...        ...    ...\n",
      "119       IOC_20250528184603_HD_HUU THANH.pdf        NaT   0.23\n",
      "120     IOC_20250528191201_HD 010301-thao.pdf 2025-05-20  14.59\n",
      "121        IOC_20250528194656_2. Tờ trình.pdf        NaT  16.13\n",
      "122  IOC_20250528213420_HĐ MUA SẮM VL PPĐ.pdf 2025-05-23   0.43\n",
      "123                          PL03GIAHANHD.pdf 2024-07-01   8.68\n",
      "\n",
      "[124 rows x 3 columns]\n"
     ]
    }
   ],
   "source": [
    "import re\n",
    "import pandas as pd\n",
    "\n",
    "with open(r\"logs\\date_extractor_2025-06-09.log\", \"r\", encoding=\"utf-8\") as f:\n",
    "    lines = f.readlines()\n",
    "\n",
    "# Regex hỗ trợ tên file có dấu cách, dấu tiếng Việt\n",
    "pattern = re.compile(\n",
    "    r\"DateExtractor - INFO - .*? - Date: ([\\d/]*|None) - File: (.+?\\.(?:pdf|docx)) - Time: ([\\d.]+) seconds\"\n",
    ")\n",
    "\n",
    "data = []\n",
    "\n",
    "for line in lines:\n",
    "    match = pattern.search(line)\n",
    "    if match:\n",
    "        date_str, filename, time_taken = match.groups()\n",
    "        date = date_str if date_str and date_str != \"None\" else None\n",
    "        data.append({\n",
    "            \"filename\": filename.strip(),\n",
    "            \"date\": date,\n",
    "            \"time\": float(time_taken)\n",
    "        })\n",
    "\n",
    "df = pd.DataFrame(data)\n",
    "df['date'] = pd.to_datetime(df['date'], dayfirst=True, errors='coerce')\n",
    "\n",
    "print(df)\n",
    "df.to_csv('output3.csv', index=False)"
   ]
  }
 ],
 "metadata": {
  "kernelspec": {
   "display_name": "venv",
   "language": "python",
   "name": "python3"
  },
  "language_info": {
   "codemirror_mode": {
    "name": "ipython",
    "version": 3
   },
   "file_extension": ".py",
   "mimetype": "text/x-python",
   "name": "python",
   "nbconvert_exporter": "python",
   "pygments_lexer": "ipython3",
   "version": "3.12.1"
  }
 },
 "nbformat": 4,
 "nbformat_minor": 5
}
